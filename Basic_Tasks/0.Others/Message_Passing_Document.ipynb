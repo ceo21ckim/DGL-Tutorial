{
 "cells": [
  {
   "cell_type": "markdown",
   "metadata": {},
   "source": [
    "## Write your own GNN module\n",
    "\n",
    "> `Message Passing`는 node의 representation을 계산하기 위해 이웃 node에서 전달받는 과정을 의미합니다. 이때 주변 node에서 전달하는 정보를 `Message`라고 한다. 가장 대표적인 모델로는 `GraphSAGE`가 있습니다."
   ]
  },
  {
   "cell_type": "code",
   "execution_count": 2,
   "metadata": {},
   "outputs": [],
   "source": [
    "import dgl \n",
    "import torch \n",
    "import torch.nn as nn \n",
    "import torch.nn.functional as F"
   ]
  },
  {
   "cell_type": "markdown",
   "metadata": {},
   "source": [
    "### $$ m^{(l)}_{u \\rightarrow v} = M^{(l)} \\left ( h^{(l-1)}_v h^{(l-1)}_u, e^{(l-1)}_{u \\rightarrow v} \\right ) $$\n",
    "### $$ m^{(l)}_v = \\sum_{u \\in \\mathcal{N}(v)} m^{(l)}_{u \\rightarrow v} $$ \n",
    "### $$ h^{(l)}_v = U^{(l)} \\left ( h^{(l-1)}_v , m^{(l)}_v \\right)  $$ \n",
    "### $$ h^k_{\\mathcal{N}(v)} \\leftarrow \\text{Average} \\{ h^{k-1}_u, \\forall u \\in \\mathcal{N}(v) \\}$$ \n",
    "### $$ h^k_v \\leftarrow \\text{ReLU}( W^k \\cdot \\text{CONCAT} (h^{k-1}_v, h^k_{\\mathcal{N}(v)})) $$\n",
    "$ m^{(l)}_{u \\rightarrow v}$는 node $u$에서 node $v$로 전달하는 `Message`를 의미합니다. $m^{(l)}_v$는 node $v$의 `Message`를 의미하며, 이웃 node들로 전달받은 `Message`의 합으로 계산됩니다. 전달받은 `Message`를 Aggregation(mean)하고 비선형 활성화 함수를 사용하여 최종 $h^k_v$를 출력합니다. "
   ]
  },
  {
   "cell_type": "code",
   "execution_count": 4,
   "metadata": {},
   "outputs": [],
   "source": [
    "import dgl.function as fn\n",
    "\n",
    "class SAGEConv(nn.Module):\n",
    "    \"\"\"Graph convolution module used by the GraphSAGE model.\n",
    "\n",
    "    Parameters\n",
    "    ----------\n",
    "    in_feat : int\n",
    "        Input feature size.\n",
    "    out_feat : int\n",
    "        Output feature size.\n",
    "    \"\"\"\n",
    "    def __init__(self, in_feat, out_feat):\n",
    "        super(SAGEConv, self).__init__()\n",
    "        # A linear submodule for projecting the input and neighbor feature to the output.\n",
    "        self.linear = nn.Linear(in_feat * 2, out_feat)\n",
    "\n",
    "    def forward(self, g, h):\n",
    "        \"\"\"Forward computation\n",
    "\n",
    "        Parameters\n",
    "        ----------\n",
    "        g : Graph\n",
    "            The input graph.\n",
    "        h : Tensor\n",
    "            The input node feature.\n",
    "        \"\"\"\n",
    "        with g.local_scope():\n",
    "            g.ndata['h'] = h\n",
    "            # update_all is a message passing API.\n",
    "            g.update_all(message_func=fn.copy_u('h', 'm'), reduce_func=fn.mean('m', 'h_N'))\n",
    "            h_N = g.ndata['h_N']\n",
    "            h_total = torch.cat([h, h_N], dim=1)\n",
    "            return self.linear(h_total)"
   ]
  },
  {
   "cell_type": "code",
   "execution_count": 5,
   "metadata": {},
   "outputs": [],
   "source": [
    "class Model(nn.Module):\n",
    "    def __init__(self, in_feats, h_feats, num_classes):\n",
    "        super(Model, self).__init__()\n",
    "        self.conv1 = SAGEConv(in_feats, h_feats)\n",
    "        self.conv2 = SAGEConv(h_feats, num_classes)\n",
    "\n",
    "    def forward(self, g, in_feat):\n",
    "        h = self.conv1(g, in_feat)\n",
    "        h = F.relu(h)\n",
    "        h = self.conv2(g, h)\n",
    "        return h"
   ]
  },
  {
   "cell_type": "code",
   "execution_count": 6,
   "metadata": {},
   "outputs": [
    {
     "name": "stdout",
     "output_type": "stream",
     "text": [
      "  NumNodes: 2708\n",
      "  NumEdges: 10556\n",
      "  NumFeats: 1433\n",
      "  NumClasses: 7\n",
      "  NumTrainingSamples: 140\n",
      "  NumValidationSamples: 500\n",
      "  NumTestSamples: 1000\n",
      "Done loading data from cached files.\n",
      "In epoch 0, loss: 1.951, val acc: 0.072 (best 0.072), test acc: 0.091 (best 0.091)\n"
     ]
    },
    {
     "name": "stderr",
     "output_type": "stream",
     "text": [
      "c:\\Users\\EonKim\\anaconda3\\envs\\dgl\\lib\\site-packages\\torch\\autocast_mode.py:162: UserWarning: User provided device_type of 'cuda', but CUDA is not available. Disabling\n",
      "  warnings.warn('User provided device_type of \\'cuda\\', but CUDA is not available. Disabling')\n"
     ]
    },
    {
     "name": "stdout",
     "output_type": "stream",
     "text": [
      "In epoch 5, loss: 1.890, val acc: 0.286 (best 0.286), test acc: 0.313 (best 0.313)\n",
      "In epoch 10, loss: 1.769, val acc: 0.624 (best 0.624), test acc: 0.658 (best 0.658)\n",
      "In epoch 15, loss: 1.578, val acc: 0.596 (best 0.624), test acc: 0.620 (best 0.658)\n",
      "In epoch 20, loss: 1.320, val acc: 0.604 (best 0.624), test acc: 0.591 (best 0.658)\n",
      "In epoch 25, loss: 1.018, val acc: 0.650 (best 0.650), test acc: 0.628 (best 0.628)\n",
      "In epoch 30, loss: 0.715, val acc: 0.706 (best 0.706), test acc: 0.685 (best 0.685)\n",
      "In epoch 35, loss: 0.461, val acc: 0.730 (best 0.730), test acc: 0.721 (best 0.721)\n",
      "In epoch 40, loss: 0.280, val acc: 0.742 (best 0.742), test acc: 0.726 (best 0.726)\n",
      "In epoch 45, loss: 0.166, val acc: 0.742 (best 0.742), test acc: 0.734 (best 0.726)\n",
      "In epoch 50, loss: 0.100, val acc: 0.748 (best 0.748), test acc: 0.734 (best 0.734)\n",
      "In epoch 55, loss: 0.063, val acc: 0.752 (best 0.754), test acc: 0.735 (best 0.734)\n",
      "In epoch 60, loss: 0.043, val acc: 0.752 (best 0.754), test acc: 0.739 (best 0.734)\n",
      "In epoch 65, loss: 0.031, val acc: 0.750 (best 0.754), test acc: 0.741 (best 0.734)\n",
      "In epoch 70, loss: 0.023, val acc: 0.748 (best 0.754), test acc: 0.739 (best 0.734)\n",
      "In epoch 75, loss: 0.019, val acc: 0.750 (best 0.754), test acc: 0.741 (best 0.734)\n",
      "In epoch 80, loss: 0.016, val acc: 0.752 (best 0.754), test acc: 0.743 (best 0.734)\n",
      "In epoch 85, loss: 0.013, val acc: 0.752 (best 0.754), test acc: 0.743 (best 0.734)\n",
      "In epoch 90, loss: 0.012, val acc: 0.754 (best 0.754), test acc: 0.743 (best 0.734)\n",
      "In epoch 95, loss: 0.011, val acc: 0.754 (best 0.754), test acc: 0.744 (best 0.734)\n",
      "In epoch 100, loss: 0.010, val acc: 0.756 (best 0.756), test acc: 0.743 (best 0.744)\n",
      "In epoch 105, loss: 0.009, val acc: 0.754 (best 0.756), test acc: 0.744 (best 0.744)\n",
      "In epoch 110, loss: 0.008, val acc: 0.754 (best 0.756), test acc: 0.743 (best 0.744)\n",
      "In epoch 115, loss: 0.007, val acc: 0.752 (best 0.756), test acc: 0.743 (best 0.744)\n",
      "In epoch 120, loss: 0.007, val acc: 0.752 (best 0.756), test acc: 0.745 (best 0.744)\n",
      "In epoch 125, loss: 0.006, val acc: 0.754 (best 0.756), test acc: 0.744 (best 0.744)\n",
      "In epoch 130, loss: 0.006, val acc: 0.752 (best 0.756), test acc: 0.745 (best 0.744)\n",
      "In epoch 135, loss: 0.006, val acc: 0.752 (best 0.756), test acc: 0.745 (best 0.744)\n",
      "In epoch 140, loss: 0.005, val acc: 0.752 (best 0.756), test acc: 0.744 (best 0.744)\n",
      "In epoch 145, loss: 0.005, val acc: 0.754 (best 0.756), test acc: 0.744 (best 0.744)\n",
      "In epoch 150, loss: 0.005, val acc: 0.754 (best 0.756), test acc: 0.744 (best 0.744)\n",
      "In epoch 155, loss: 0.005, val acc: 0.754 (best 0.756), test acc: 0.744 (best 0.744)\n",
      "In epoch 160, loss: 0.004, val acc: 0.754 (best 0.756), test acc: 0.745 (best 0.744)\n",
      "In epoch 165, loss: 0.004, val acc: 0.754 (best 0.756), test acc: 0.746 (best 0.744)\n",
      "In epoch 170, loss: 0.004, val acc: 0.754 (best 0.756), test acc: 0.747 (best 0.744)\n",
      "In epoch 175, loss: 0.004, val acc: 0.754 (best 0.756), test acc: 0.747 (best 0.744)\n",
      "In epoch 180, loss: 0.004, val acc: 0.754 (best 0.756), test acc: 0.747 (best 0.744)\n",
      "In epoch 185, loss: 0.003, val acc: 0.754 (best 0.756), test acc: 0.747 (best 0.744)\n",
      "In epoch 190, loss: 0.003, val acc: 0.754 (best 0.756), test acc: 0.748 (best 0.744)\n",
      "In epoch 195, loss: 0.003, val acc: 0.754 (best 0.756), test acc: 0.748 (best 0.744)\n"
     ]
    }
   ],
   "source": [
    "import dgl.data\n",
    "\n",
    "dataset = dgl.data.CoraGraphDataset()\n",
    "g = dataset[0]\n",
    "\n",
    "def train(g, model):\n",
    "    optimizer = torch.optim.Adam(model.parameters(), lr=0.01)\n",
    "    all_logits = []\n",
    "    best_val_acc = 0\n",
    "    best_test_acc = 0\n",
    "\n",
    "    features = g.ndata['feat']\n",
    "    labels = g.ndata['label']\n",
    "    train_mask = g.ndata['train_mask']\n",
    "    val_mask = g.ndata['val_mask']\n",
    "    test_mask = g.ndata['test_mask']\n",
    "    for e in range(200):\n",
    "        # Forward\n",
    "        logits = model(g, features)\n",
    "\n",
    "        # Compute prediction\n",
    "        pred = logits.argmax(1)\n",
    "\n",
    "        # Compute loss\n",
    "        # Note that we should only compute the losses of the nodes in the training set,\n",
    "        # i.e. with train_mask 1.\n",
    "        loss = F.cross_entropy(logits[train_mask], labels[train_mask])\n",
    "\n",
    "        # Compute accuracy on training/validation/test\n",
    "        train_acc = (pred[train_mask] == labels[train_mask]).float().mean()\n",
    "        val_acc = (pred[val_mask] == labels[val_mask]).float().mean()\n",
    "        test_acc = (pred[test_mask] == labels[test_mask]).float().mean()\n",
    "\n",
    "        # Save the best validation accuracy and the corresponding test accuracy.\n",
    "        if best_val_acc < val_acc:\n",
    "            best_val_acc = val_acc\n",
    "            best_test_acc = test_acc\n",
    "\n",
    "        # Backward\n",
    "        optimizer.zero_grad()\n",
    "        loss.backward()\n",
    "        optimizer.step()\n",
    "        all_logits.append(logits.detach())\n",
    "\n",
    "        if e % 5 == 0:\n",
    "            print('In epoch {}, loss: {:.3f}, val acc: {:.3f} (best {:.3f}), test acc: {:.3f} (best {:.3f})'.format(\n",
    "                e, loss, val_acc, best_val_acc, test_acc, best_test_acc))\n",
    "\n",
    "model = Model(g.ndata['feat'].shape[1], 16, dataset.num_classes)\n",
    "train(g, model)"
   ]
  },
  {
   "cell_type": "markdown",
   "metadata": {},
   "source": [
    "## More customization"
   ]
  },
  {
   "cell_type": "code",
   "execution_count": 7,
   "metadata": {},
   "outputs": [],
   "source": [
    "class WeightedSAGEConv(nn.Module):\n",
    "    \"\"\"Graph convolution module used by the GraphSAGE model with edge weights.\n",
    "\n",
    "    Parameters\n",
    "    ----------\n",
    "    in_feat : int\n",
    "        Input feature size.\n",
    "    out_feat : int\n",
    "        Output feature size.\n",
    "    \"\"\"\n",
    "    def __init__(self, in_feat, out_feat):\n",
    "        super(WeightedSAGEConv, self).__init__()\n",
    "        # A linear submodule for projecting the input and neighbor feature to the output.\n",
    "        self.linear = nn.Linear(in_feat * 2, out_feat)\n",
    "\n",
    "    def forward(self, g, h, w):\n",
    "        \"\"\"Forward computation\n",
    "\n",
    "        Parameters\n",
    "        ----------\n",
    "        g : Graph\n",
    "            The input graph.\n",
    "        h : Tensor\n",
    "            The input node feature.\n",
    "        w : Tensor\n",
    "            The edge weight.\n",
    "        \"\"\"\n",
    "        with g.local_scope():\n",
    "            g.ndata['h'] = h\n",
    "            g.edata['w'] = w\n",
    "            g.update_all(message_func=fn.u_mul_e('h', 'w', 'm'), reduce_func=fn.mean('m', 'h_N'))\n",
    "            h_N = g.ndata['h_N']\n",
    "            h_total = torch.cat([h, h_N], dim=1)\n",
    "            return self.linear(h_total)"
   ]
  },
  {
   "cell_type": "code",
   "execution_count": null,
   "metadata": {},
   "outputs": [],
   "source": [
    "class Model(nn.Module):\n",
    "    def __init__(self, in_feats, h_feats, num_classes):\n",
    "        super(Model, self).__init__()\n",
    "        self.conv1 = WeightedSAGEConv(in_feats, h_feats)\n",
    "        self.conv2 = WeightedSAGEConv(h_feats, num_classes)\n",
    "\n",
    "    def forward(self, g, in_feat):\n",
    "        h = self.conv1(g, in_feat, torch.ones(g.num_edges(), 1).to(g.device))\n",
    "        h = F.relu(h)\n",
    "        h = self.conv2(g, h, torch.ones(g.num_edges(), 1).to(g.device))\n",
    "        return h\n",
    "\n",
    "model = Model(g.ndata['feat'].shape[1], 16, dataset.num_classes)\n",
    "train(g, model)"
   ]
  },
  {
   "cell_type": "markdown",
   "metadata": {},
   "source": [
    "## Even more customization by user-defined function"
   ]
  },
  {
   "cell_type": "code",
   "execution_count": null,
   "metadata": {},
   "outputs": [],
   "source": [
    "def u_mul_e_udf(edges):\n",
    "    return {'m' : edges.src['h'] * edges.data['w']}"
   ]
  },
  {
   "cell_type": "code",
   "execution_count": null,
   "metadata": {},
   "outputs": [],
   "source": [
    "def mean_udf(nodes):\n",
    "    return {'h_N': nodes.mailbox['m'].mean(1)}"
   ]
  }
 ],
 "metadata": {
  "kernelspec": {
   "display_name": "Python 3.10.4 ('dgl')",
   "language": "python",
   "name": "python3"
  },
  "language_info": {
   "codemirror_mode": {
    "name": "ipython",
    "version": 3
   },
   "file_extension": ".py",
   "mimetype": "text/x-python",
   "name": "python",
   "nbconvert_exporter": "python",
   "pygments_lexer": "ipython3",
   "version": "3.10.4"
  },
  "orig_nbformat": 4,
  "vscode": {
   "interpreter": {
    "hash": "91f4586c667beba9fc73d5e38cfe2361778c9000e218f655761c33977cb8e239"
   }
  }
 },
 "nbformat": 4,
 "nbformat_minor": 2
}
