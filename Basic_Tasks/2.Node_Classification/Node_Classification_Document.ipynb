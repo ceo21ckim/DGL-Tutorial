{
 "cells": [
  {
   "cell_type": "markdown",
   "metadata": {},
   "source": [
    "## Node Classification with DGL\n",
    "\n",
    ">`DGL`은 `GNN`을 편리하게 사용하게 도와주는 패키지 입니다. 그래프계의 `Keras`.! `DGL`은 아래와 같은 장점이 있습니다.\n",
    "\n",
    "- DGL에서는 `GNN`을 하기 위한 다양한 데이터셋을 제공합니다. \n",
    "- `GNN` 모델을 단순히 호출만을 통해 사용할 수 있습니다.\n",
    "- 모델을 학습할 때 `CPU`, `GPU`를 모두 사용할 수 있습니다."
   ]
  },
  {
   "cell_type": "code",
   "execution_count": 1,
   "metadata": {},
   "outputs": [
    {
     "name": "stderr",
     "output_type": "stream",
     "text": [
      "c:\\Users\\EonKim\\anaconda3\\envs\\dgl\\lib\\site-packages\\tqdm\\auto.py:22: TqdmWarning: IProgress not found. Please update jupyter and ipywidgets. See https://ipywidgets.readthedocs.io/en/stable/user_install.html\n",
      "  from .autonotebook import tqdm as notebook_tqdm\n"
     ]
    }
   ],
   "source": [
    "# 본 튜토리얼에서는 Node Classification에 대해서 다룹니다.\n",
    "\n",
    "import dgl \n",
    "import torch \n",
    "import torch.nn as nn \n",
    "import torch.nn.functional as F "
   ]
  },
  {
   "cell_type": "markdown",
   "metadata": {},
   "source": [
    "## Loading Cora Dataset \n",
    "\n",
    "> Cora Dataset은 가장 대표적인 데이터셋 중 하나입니다. Cora Dataset은 논문 간의 인용 정보를 담고 있습니다"
   ]
  },
  {
   "cell_type": "code",
   "execution_count": 2,
   "metadata": {},
   "outputs": [],
   "source": [
    "import dgl.data "
   ]
  },
  {
   "cell_type": "code",
   "execution_count": 4,
   "metadata": {},
   "outputs": [
    {
     "name": "stdout",
     "output_type": "stream",
     "text": [
      "  NumNodes: 2708\n",
      "  NumEdges: 10556\n",
      "  NumFeats: 1433\n",
      "  NumClasses: 7\n",
      "  NumTrainingSamples: 140\n",
      "  NumValidationSamples: 500\n",
      "  NumTestSamples: 1000\n",
      "Done loading data from cached files.\n",
      "Number of categories: 7\n"
     ]
    }
   ],
   "source": [
    "dataset = dgl.data.CoraGraphDataset()\n",
    "print('Number of categories:', dataset.num_classes)"
   ]
  },
  {
   "cell_type": "code",
   "execution_count": 6,
   "metadata": {},
   "outputs": [
    {
     "name": "stdout",
     "output_type": "stream",
     "text": [
      "1\n"
     ]
    }
   ],
   "source": [
    "# Cora Dataset의 경우 하나의 그래프로 이루어져 있기 때문에 아래와 같은 코드를 사용합니다.\n",
    "# PPI 등과 같이 Graph Classification을 하는 경우 다양한 그래프가 들어가 있을 수 있습니다. \n",
    "\n",
    "g = dataset[0]\n",
    "print(dataset.__len__())"
   ]
  },
  {
   "cell_type": "code",
   "execution_count": 7,
   "metadata": {},
   "outputs": [
    {
     "data": {
      "text/plain": [
       "Graph(num_nodes=2708, num_edges=10556,\n",
       "      ndata_schemes={'train_mask': Scheme(shape=(), dtype=torch.bool), 'label': Scheme(shape=(), dtype=torch.int64), 'val_mask': Scheme(shape=(), dtype=torch.bool), 'test_mask': Scheme(shape=(), dtype=torch.bool), 'feat': Scheme(shape=(1433,), dtype=torch.float32)}\n",
       "      edata_schemes={'__orig__': Scheme(shape=(), dtype=torch.int64)})"
      ]
     },
     "execution_count": 7,
     "metadata": {},
     "output_type": "execute_result"
    }
   ],
   "source": [
    "g"
   ]
  },
  {
   "cell_type": "markdown",
   "metadata": {},
   "source": [
    "> `dgl.data`는 `ndata`, `edata`등의 정보들을 담고 있습니다.\n",
    "\n",
    "- `train_mask`: node가 trainset인지 아닌지를 나타냅니다. trainset인 경우 `True`, 아닌 경우에는 `False`로 표시됩니다. \n",
    "- `val_mask`: node가 validset인지 아닌지를 나타냅니다.\n",
    "- `test_mask`: node가 testset인지 아닌지를 나타냅니다.\n",
    "- `label`: node 카테고리의 ground truth (정답)를 의미합니다.\n",
    "- `feat`: node의 feature 정보를 의미합니다.\n",
    "- `ndata`: node의 정보들을 나타냅니다.\n",
    "- `edata`: edge의 정보들을 나타냅니다."
   ]
  },
  {
   "cell_type": "code",
   "execution_count": 8,
   "metadata": {},
   "outputs": [
    {
     "name": "stdout",
     "output_type": "stream",
     "text": [
      "Node features\n",
      "{'train_mask': tensor([False, False, False,  ..., False, False, False]), 'label': tensor([4, 4, 4,  ..., 4, 3, 3]), 'val_mask': tensor([False, False,  True,  ..., False, False, False]), 'test_mask': tensor([ True,  True, False,  ..., False, False, False]), 'feat': tensor([[0.0000, 0.0000, 0.0000,  ..., 0.0000, 0.0000, 0.0000],\n",
      "        [0.0000, 0.0000, 0.0000,  ..., 0.0000, 0.0000, 0.0000],\n",
      "        [0.0000, 0.0000, 0.0000,  ..., 0.0000, 0.0000, 0.0000],\n",
      "        ...,\n",
      "        [0.0000, 0.0000, 0.0000,  ..., 0.0000, 0.0000, 0.0000],\n",
      "        [0.0000, 0.0000, 0.0000,  ..., 0.0000, 0.0000, 0.0000],\n",
      "        [0.0000, 0.0000, 0.0000,  ..., 0.0000, 0.0526, 0.0000]])}\n",
      "Edge features\n",
      "{'__orig__': tensor([  298,  9199,  1153,  ..., 10415,  5255,  6356])}\n"
     ]
    }
   ],
   "source": [
    "print('Node features')\n",
    "print(g.ndata)\n",
    "print('Edge features')\n",
    "print(g.edata)"
   ]
  },
  {
   "cell_type": "markdown",
   "metadata": {},
   "source": [
    "## Defining a Graph Convolutional Network (GCN)\n",
    "\n",
    "> `GCN`은 Graph Neural Network에서 가장 대표적인 모델 중 하나입니다. 2017년 처음으로 제안되었으며 현재까지 그래프 연구에 기반이 되는 모델입니다. "
   ]
  },
  {
   "cell_type": "code",
   "execution_count": 10,
   "metadata": {},
   "outputs": [],
   "source": [
    "from dgl.nn import GraphConv\n",
    "\n",
    "class GCN(nn.Module):\n",
    "    def __init__(self, in_feats, h_feats, num_classes): # initialization\n",
    "        super(GCN, self).__init__()\n",
    "        self.conv1 = GraphConv(in_feats, h_feats) # in feature, hidden feature\n",
    "        self.conv2 = GraphConv(h_feats, num_classes) # hidden feature, output \n",
    "\n",
    "    def forward(self, g, in_feat):\n",
    "        h = self.conv1(g, in_feat)\n",
    "        h = F.relu(h) # non-linear\n",
    "        h = self.conv2(g, h)\n",
    "        return h\n",
    "\n",
    "# Create the model with given dimensions\n",
    "model = GCN(g.ndata['feat'].shape[1], 16, dataset.num_classes)"
   ]
  },
  {
   "cell_type": "markdown",
   "metadata": {},
   "source": [
    "## Training the GCN"
   ]
  },
  {
   "cell_type": "code",
   "execution_count": 11,
   "metadata": {},
   "outputs": [
    {
     "name": "stderr",
     "output_type": "stream",
     "text": [
      "c:\\Users\\EonKim\\anaconda3\\envs\\dgl\\lib\\site-packages\\torch\\autocast_mode.py:162: UserWarning: User provided device_type of 'cuda', but CUDA is not available. Disabling\n",
      "  warnings.warn('User provided device_type of \\'cuda\\', but CUDA is not available. Disabling')\n"
     ]
    },
    {
     "name": "stdout",
     "output_type": "stream",
     "text": [
      "In epoch 0, loss: 1.946, val acc: 0.088 (best 0.088), test acc: 0.085 (best 0.085)\n",
      "In epoch 5, loss: 1.903, val acc: 0.484 (best 0.484), test acc: 0.488 (best 0.488)\n",
      "In epoch 10, loss: 1.832, val acc: 0.658 (best 0.658), test acc: 0.667 (best 0.667)\n",
      "In epoch 15, loss: 1.735, val acc: 0.714 (best 0.714), test acc: 0.707 (best 0.707)\n",
      "In epoch 20, loss: 1.615, val acc: 0.680 (best 0.714), test acc: 0.672 (best 0.707)\n",
      "In epoch 25, loss: 1.472, val acc: 0.708 (best 0.714), test acc: 0.683 (best 0.707)\n",
      "In epoch 30, loss: 1.312, val acc: 0.726 (best 0.726), test acc: 0.725 (best 0.725)\n",
      "In epoch 35, loss: 1.143, val acc: 0.730 (best 0.730), test acc: 0.741 (best 0.741)\n",
      "In epoch 40, loss: 0.974, val acc: 0.732 (best 0.732), test acc: 0.746 (best 0.744)\n",
      "In epoch 45, loss: 0.814, val acc: 0.734 (best 0.736), test acc: 0.754 (best 0.754)\n",
      "In epoch 50, loss: 0.671, val acc: 0.740 (best 0.740), test acc: 0.755 (best 0.752)\n",
      "In epoch 55, loss: 0.547, val acc: 0.746 (best 0.746), test acc: 0.758 (best 0.758)\n",
      "In epoch 60, loss: 0.443, val acc: 0.750 (best 0.750), test acc: 0.763 (best 0.761)\n",
      "In epoch 65, loss: 0.359, val acc: 0.746 (best 0.750), test acc: 0.763 (best 0.761)\n",
      "In epoch 70, loss: 0.291, val acc: 0.750 (best 0.750), test acc: 0.768 (best 0.761)\n",
      "In epoch 75, loss: 0.238, val acc: 0.754 (best 0.754), test acc: 0.772 (best 0.770)\n",
      "In epoch 80, loss: 0.196, val acc: 0.758 (best 0.758), test acc: 0.772 (best 0.772)\n",
      "In epoch 85, loss: 0.162, val acc: 0.762 (best 0.764), test acc: 0.771 (best 0.772)\n",
      "In epoch 90, loss: 0.136, val acc: 0.764 (best 0.766), test acc: 0.770 (best 0.770)\n",
      "In epoch 95, loss: 0.115, val acc: 0.766 (best 0.766), test acc: 0.767 (best 0.770)\n"
     ]
    }
   ],
   "source": [
    "def train(g, model):\n",
    "    optimizer = torch.optim.Adam(model.parameters(), lr=0.01) # optimizer \n",
    "    best_val_acc = 0\n",
    "    best_test_acc = 0\n",
    "\n",
    "    features = g.ndata['feat']\n",
    "    labels = g.ndata['label']\n",
    "    train_mask = g.ndata['train_mask']\n",
    "    val_mask = g.ndata['val_mask']\n",
    "    test_mask = g.ndata['test_mask']\n",
    "    for e in range(100):\n",
    "        # Forward\n",
    "        logits = model(g, features)\n",
    "\n",
    "        # Compute prediction\n",
    "        pred = logits.argmax(1)\n",
    "\n",
    "        # Compute loss\n",
    "        # Note that you should only compute the losses of the nodes in the training set.\n",
    "        loss = F.cross_entropy(logits[train_mask], labels[train_mask])\n",
    "\n",
    "        # Compute accuracy on training/validation/test\n",
    "        train_acc = (pred[train_mask] == labels[train_mask]).float().mean() # GCN의 경우 train node에 대해서만 loss를 계산하는 형태로 구성됩니다.\n",
    "        val_acc = (pred[val_mask] == labels[val_mask]).float().mean()\n",
    "        test_acc = (pred[test_mask] == labels[test_mask]).float().mean()\n",
    "\n",
    "        # Save the best validation accuracy and the corresponding test accuracy.\n",
    "        if best_val_acc < val_acc:\n",
    "            best_val_acc = val_acc\n",
    "            best_test_acc = test_acc\n",
    "\n",
    "        # Backward\n",
    "        optimizer.zero_grad() # 초기화\n",
    "        loss.backward() # back-propagation \n",
    "        optimizer.step() # learning rate만큼 step\n",
    "\n",
    "        if e % 5 == 0:\n",
    "            print('In epoch {}, loss: {:.3f}, val acc: {:.3f} (best {:.3f}), test acc: {:.3f} (best {:.3f})'.format(\n",
    "                e, loss, val_acc, best_val_acc, test_acc, best_test_acc))\n",
    "model = GCN(g.ndata['feat'].shape[1], 16, dataset.num_classes)\n",
    "train(g, model)"
   ]
  },
  {
   "cell_type": "markdown",
   "metadata": {},
   "source": [
    "## Training on GPU\n",
    "\n",
    "> `GPU`를 사용하고 싶은 경우 dataset과 model 둘다 `cuda`로 지정하여야 합니다. "
   ]
  },
  {
   "cell_type": "code",
   "execution_count": null,
   "metadata": {},
   "outputs": [],
   "source": [
    "g = g.to('cuda')\n",
    "model = GCN(g.ndata['feat'].shape[1], 16, dataset.num_classes).to('cuda')\n",
    "train(g, model)"
   ]
  },
  {
   "cell_type": "code",
   "execution_count": null,
   "metadata": {},
   "outputs": [],
   "source": []
  },
  {
   "cell_type": "code",
   "execution_count": null,
   "metadata": {},
   "outputs": [],
   "source": []
  },
  {
   "cell_type": "code",
   "execution_count": null,
   "metadata": {},
   "outputs": [],
   "source": []
  },
  {
   "cell_type": "code",
   "execution_count": null,
   "metadata": {},
   "outputs": [],
   "source": []
  },
  {
   "cell_type": "code",
   "execution_count": null,
   "metadata": {},
   "outputs": [],
   "source": []
  },
  {
   "cell_type": "code",
   "execution_count": null,
   "metadata": {},
   "outputs": [],
   "source": []
  },
  {
   "cell_type": "code",
   "execution_count": null,
   "metadata": {},
   "outputs": [],
   "source": []
  },
  {
   "cell_type": "code",
   "execution_count": null,
   "metadata": {},
   "outputs": [],
   "source": []
  }
 ],
 "metadata": {
  "kernelspec": {
   "display_name": "Python 3.10.4 ('dgl')",
   "language": "python",
   "name": "python3"
  },
  "language_info": {
   "codemirror_mode": {
    "name": "ipython",
    "version": 3
   },
   "file_extension": ".py",
   "mimetype": "text/x-python",
   "name": "python",
   "nbconvert_exporter": "python",
   "pygments_lexer": "ipython3",
   "version": "3.10.4"
  },
  "orig_nbformat": 4,
  "vscode": {
   "interpreter": {
    "hash": "91f4586c667beba9fc73d5e38cfe2361778c9000e218f655761c33977cb8e239"
   }
  }
 },
 "nbformat": 4,
 "nbformat_minor": 2
}
