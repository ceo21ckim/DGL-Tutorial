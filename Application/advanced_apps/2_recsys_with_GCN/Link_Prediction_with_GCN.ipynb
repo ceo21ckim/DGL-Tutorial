{
 "cells": [
  {
   "cell_type": "code",
   "execution_count": 63,
   "metadata": {},
   "outputs": [],
   "source": [
    "import numpy as np \n",
    "import torch \n",
    "import torch.nn as nn \n",
    "import torch.optim as optim \n",
    "import scipy.sparse as sp \n",
    "import dgl\n",
    "from dgl.nn import GraphConv\n",
    "import dgl.function as fn \n",
    "import matplotlib.pyplot as plt \n",
    "import itertools\n",
    "\n",
    "from sklearn.metrics import roc_auc_score"
   ]
  },
  {
   "cell_type": "code",
   "execution_count": 53,
   "metadata": {},
   "outputs": [],
   "source": [
    "edges_file = f'dataset/0.edges'\n",
    "feats_file = f'dataset/0.feat'\n",
    "\n",
    "edges_u, edges_v = [], []\n",
    "\n",
    "'''\n",
    "For example of edges file:\n",
    "    uid iid\n",
    "    1   1\n",
    "    2   10\n",
    "    3   10\n",
    "    3   12\n",
    "      ...\n",
    "'''\n",
    "\n",
    "with open(edges_file) as f:\n",
    "    for l in f:\n",
    "        src, dst = tuple(int(x) - 1 for x in l.split())\n",
    "        edges_u.append(src)\n",
    "        edges_v.append(dst)\n",
    "\n",
    "edges_u = np.array(edges_u)\n",
    "edges_v = np.array(edges_v)\n",
    "\n",
    "num_nodes = 0 \n",
    "feats = []\n",
    "\n",
    "'''\n",
    "For example of feats file:\n",
    "    uid feats\n",
    "    1   0 0 0 0 0 0 1 0 0\n",
    "    2   0 0 0 1 0 1 0 0 0\n",
    "      ...\n",
    "'''\n",
    "\n",
    "with open(feats_file) as f :\n",
    "    for l in f:\n",
    "        num_nodes += 1 \n",
    "        a = [int(x) for x in l.split()[1:]]\n",
    "        feats.append(torch.tensor(a, dtype=torch.float))\n",
    "\n",
    "feats = torch.stack(feats) \n",
    "\n",
    "g = dgl.graph((edges_u, edges_v))\n",
    "g.ndata['feat'] = feats"
   ]
  },
  {
   "cell_type": "code",
   "execution_count": 74,
   "metadata": {},
   "outputs": [],
   "source": [
    "import networkx as nx \n",
    "G = nx.Graph()\n",
    "G.add_nodes_from(set(list(edges_u) + list(edges_v)))\n",
    "G.add_edges_from(zip(edges_u, edges_v))"
   ]
  },
  {
   "cell_type": "markdown",
   "metadata": {},
   "source": [
    "# Training/Testing data construction"
   ]
  },
  {
   "cell_type": "code",
   "execution_count": 75,
   "metadata": {},
   "outputs": [],
   "source": [
    "u, v = g.edges()\n",
    "\n",
    "eids = np.arange(g.number_of_edges())\n",
    "eids = np.random.permutation(eids)\n",
    "test_size = int(len(eids) * 0.3)\n",
    "train_size = g.number_of_edges() - test_size \n",
    "\n",
    "# get positive edges for test and train \n",
    "test_pos_u, test_pos_v = u[eids[:test_size]], v[eids[:test_size]]\n",
    "train_pos_u, train_pos_v = u[eids[test_size:]], v[eids[test_size:]]\n",
    "\n",
    "# Find all negative edges\n",
    "adj_mat = sp.coo_matrix((np.ones(len(u)), (u.numpy(), v.numpy()))) # (u, v) 인 값만 1로 채웁니다.\n",
    "adj_neg = 1 - adj_mat.todense() - np.eye(g.number_of_nodes()) # negative 인 값만 1, 아닌 값은 0으로 반환합니다. \n",
    "neg_u, neg_v = np.where(adj_neg != 0)\n",
    "\n",
    "# split the negative edges for training and testing \n",
    "neg_eids = np.random.choice(len(neg_u), g.number_of_edges())\n",
    "test_neg_u, test_neg_v = neg_u[neg_eids[:test_size]], neg_v[neg_eids[:test_size]]\n",
    "train_neg_u, train_neg_v =neg_v[neg_eids[test_size:]], neg_v[neg_eids[test_size:]] \n",
    "\n",
    "train_pos_g = dgl.graph((train_pos_u, train_pos_v), num_nodes=g.number_of_nodes())\n",
    "train_neg_g = dgl.graph((train_neg_u, train_neg_v), num_nodes=g.number_of_nodes())\n",
    "\n",
    "test_pos_g = dgl.graph((test_pos_u, test_pos_v), num_nodes=g.number_of_nodes())\n",
    "test_neg_g = dgl.graph((test_neg_u, test_neg_v), num_nodes=g.number_of_nodes())\n",
    "\n",
    "train_g = dgl.remove_edges(g, eids[:test_size])\n",
    "train_g = dgl.add_self_loop(train_g)"
   ]
  },
  {
   "cell_type": "markdown",
   "metadata": {},
   "source": [
    "# Model definition"
   ]
  },
  {
   "cell_type": "code",
   "execution_count": 79,
   "metadata": {},
   "outputs": [],
   "source": [
    "class GCN(nn.Module):\n",
    "    def __init__(self, in_feats, h_feats):\n",
    "        super(GCN, self).__init__()\n",
    "        self.conv1 = GraphConv(in_feats, h_feats)\n",
    "        self.conv2 = GraphConv(h_feats, h_feats)\n",
    "        self.relu = nn.ReLU()\n",
    "    \n",
    "    def forward(self, g, in_feats):\n",
    "        h = self.conv1(g, in_feats)\n",
    "        h = self.relu(h)\n",
    "        h = self.conv2(g, h)\n",
    "        \n",
    "        return h \n",
    "\n",
    "class DotPredictor(nn.Module):\n",
    "    def forward(self, g, h):\n",
    "        with g.local_scope():\n",
    "            g.ndata['h'] = h \n",
    "            g.apply_edges(fn.u_dot_v('h', 'h', 'score'))\n",
    "            # u_dot_v returns a 1-element vector for each edge so you need to squeeze it.\n",
    "            return g.edata['score'][:, 0]"
   ]
  },
  {
   "cell_type": "code",
   "execution_count": 82,
   "metadata": {},
   "outputs": [
    {
     "name": "stderr",
     "output_type": "stream",
     "text": [
      "c:\\Users\\EonKim\\anaconda3\\envs\\torch\\lib\\site-packages\\torch\\autocast_mode.py:141: UserWarning: User provided device_type of 'cuda', but CUDA is not available. Disabling\n",
      "  warnings.warn('User provided device_type of \\'cuda\\', but CUDA is not available. Disabling')\n"
     ]
    },
    {
     "name": "stdout",
     "output_type": "stream",
     "text": [
      "In epoch [5/100], loss: 0.6621\n",
      "In epoch [10/100], loss: 0.6565\n",
      "In epoch [15/100], loss: 0.6556\n",
      "In epoch [20/100], loss: 0.6547\n",
      "In epoch [25/100], loss: 0.6540\n",
      "In epoch [30/100], loss: 0.6537\n",
      "In epoch [35/100], loss: 0.6534\n",
      "In epoch [40/100], loss: 0.6532\n",
      "In epoch [45/100], loss: 0.6530\n",
      "In epoch [50/100], loss: 0.6529\n",
      "In epoch [55/100], loss: 0.6528\n",
      "In epoch [60/100], loss: 0.6527\n",
      "In epoch [65/100], loss: 0.6526\n",
      "In epoch [70/100], loss: 0.6525\n",
      "In epoch [75/100], loss: 0.6525\n",
      "In epoch [80/100], loss: 0.6524\n",
      "In epoch [85/100], loss: 0.6523\n",
      "In epoch [90/100], loss: 0.6523\n",
      "In epoch [95/100], loss: 0.6522\n",
      "In epoch [100/100], loss: 0.6522\n",
      "AUC: 0.8430\n"
     ]
    }
   ],
   "source": [
    "model = GCN(train_g.ndata['feat'].shape[1], 16)\n",
    "criterion = nn.BCEWithLogitsLoss()\n",
    "predictor = DotPredictor()\n",
    "\n",
    "def compute_loss(pos_score, neg_score):\n",
    "    scores = torch.cat([pos_score, neg_score])\n",
    "    labels = torch.cat([torch.ones(pos_score.shape[0]), torch.zeros(neg_score.shape[0])])\n",
    "    return criterion(scores, labels)\n",
    "\n",
    "def compute_auc(pos_score, neg_score):\n",
    "    scores = torch.cat([pos_score, neg_score]).numpy()\n",
    "    labels = torch.cat([torch.ones(pos_score.shape[0]), torch.zeros(neg_score.shape[0])]).numpy()\n",
    "    return roc_auc_score(labels, scores)\n",
    "\n",
    "optimizer = optim.Adam(itertools.chain(model.parameters(), predictor.parameters()), lr=0.01)\n",
    "num_epochs = 100 \n",
    "\n",
    "all_logits = []\n",
    "model.train()\n",
    "for epoch in range(1, num_epochs+1):\n",
    "    h = model(train_g, train_g.ndata['feat'])\n",
    "    \n",
    "    pos_score = predictor(train_pos_g, h)\n",
    "    neg_score = predictor(train_neg_g, h)\n",
    "    loss = compute_loss(pos_score, neg_score)\n",
    "    \n",
    "    optimizer.zero_grad()\n",
    "    loss.backward()\n",
    "    optimizer.step()\n",
    "    \n",
    "    if epoch % 5 == 0:\n",
    "        print(f'In epoch [{epoch}/{num_epochs}], loss: {loss.item():.4f}')\n",
    "\n",
    "model.eval()    \n",
    "with torch.no_grad():\n",
    "    pos_score = predictor(test_pos_g, h)\n",
    "    neg_score = predictor(test_neg_g, h)\n",
    "    print(f'AUC: {compute_auc(pos_score, neg_score):.4f}')"
   ]
  }
 ],
 "metadata": {
  "kernelspec": {
   "display_name": "Python 3.8.15 ('torch')",
   "language": "python",
   "name": "python3"
  },
  "language_info": {
   "codemirror_mode": {
    "name": "ipython",
    "version": 3
   },
   "file_extension": ".py",
   "mimetype": "text/x-python",
   "name": "python",
   "nbconvert_exporter": "python",
   "pygments_lexer": "ipython3",
   "version": "3.8.15"
  },
  "orig_nbformat": 4,
  "vscode": {
   "interpreter": {
    "hash": "87f8120500551a546151f2b0ca958f68b0ffffb73102cc5528ecad6003f8fe87"
   }
  }
 },
 "nbformat": 4,
 "nbformat_minor": 2
}
